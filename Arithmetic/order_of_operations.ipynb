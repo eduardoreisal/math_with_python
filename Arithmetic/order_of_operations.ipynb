{
 "cells": [
  {
   "cell_type": "markdown",
   "id": "5a40210d",
   "metadata": {},
   "source": [
    "# Order of Operations\n",
    "\n",
    "Please\n",
    "Excuse\n",
    "My\n",
    "Dear\n",
    "Aunty\n",
    "Sally\n",
    "\n",
    "## Order\n",
    "\n",
    "Parentheses\n",
    "Exponents\n",
    "Multiplication\n",
    "Division\n",
    "Addition\n",
    "Subtraction\n",
    "\n",
    "P <br>\n",
    "E <br>\n",
    "M <br>\n",
    "D <br>\n",
    "A <br>\n",
    "S <br>"
   ]
  },
  {
   "cell_type": "code",
   "execution_count": 2,
   "id": "64af6959",
   "metadata": {
    "scrolled": true
   },
   "outputs": [
    {
     "name": "stdout",
     "output_type": "stream",
     "text": [
      "9\n"
     ]
    }
   ],
   "source": [
    "print(4+3*2-1)"
   ]
  },
  {
   "cell_type": "markdown",
   "id": "69aa7af5",
   "metadata": {},
   "source": [
    "## Exercises\n",
    "Add parentheses to make the following equations true.\n",
    "\n",
    "1) 4 x 5 / 7 + 3 = 2\n",
    "2) 9 / 3 + 6 - 1 = 0"
   ]
  },
  {
   "cell_type": "code",
   "execution_count": 5,
   "id": "9e99d509",
   "metadata": {
    "scrolled": true
   },
   "outputs": [
    {
     "name": "stdout",
     "output_type": "stream",
     "text": [
      "2\n"
     ]
    }
   ],
   "source": [
    "print((4 * 5) // (7 + 3))"
   ]
  },
  {
   "cell_type": "code",
   "execution_count": 8,
   "id": "85f4d9c0",
   "metadata": {},
   "outputs": [
    {
     "name": "stdout",
     "output_type": "stream",
     "text": [
      "0\n"
     ]
    }
   ],
   "source": [
    "print(9 // (3 + 6) - 1)"
   ]
  }
 ],
 "metadata": {
  "kernelspec": {
   "display_name": "Python 3 (ipykernel)",
   "language": "python",
   "name": "python3"
  },
  "language_info": {
   "codemirror_mode": {
    "name": "ipython",
    "version": 3
   },
   "file_extension": ".py",
   "mimetype": "text/x-python",
   "name": "python",
   "nbconvert_exporter": "python",
   "pygments_lexer": "ipython3",
   "version": "3.9.12"
  }
 },
 "nbformat": 4,
 "nbformat_minor": 5
}
