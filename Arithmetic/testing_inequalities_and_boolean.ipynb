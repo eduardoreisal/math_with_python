{
 "cells": [
  {
   "cell_type": "code",
   "execution_count": 5,
   "id": "322d8086",
   "metadata": {},
   "outputs": [],
   "source": [
    "from IPython.display import display, Math"
   ]
  },
  {
   "cell_type": "code",
   "execution_count": 2,
   "id": "22f1676b",
   "metadata": {
    "scrolled": true
   },
   "outputs": [
    {
     "name": "stdout",
     "output_type": "stream",
     "text": [
      "True\n",
      "<class 'bool'>\n"
     ]
    }
   ],
   "source": [
    "b = 10 > 3*3\n",
    "print(b)\n",
    "print(type(b))"
   ]
  },
  {
   "cell_type": "code",
   "execution_count": 3,
   "id": "0f563334",
   "metadata": {
    "scrolled": true
   },
   "outputs": [
    {
     "name": "stdout",
     "output_type": "stream",
     "text": [
      "True\n"
     ]
    }
   ],
   "source": [
    "a = 4 == 4\n",
    "print(a)"
   ]
  },
  {
   "cell_type": "markdown",
   "id": "b23c8575",
   "metadata": {},
   "source": [
    "# Exercises\n",
    "\n",
    "x = 2, x = 3, x = 4\n",
    "\n",
    "1) 4x + 3 < 17 - x^2 <br>\n",
    "2) 8x - 2 <= -3x + 42"
   ]
  },
  {
   "cell_type": "code",
   "execution_count": 18,
   "id": "5dc86e6c",
   "metadata": {
    "scrolled": true
   },
   "outputs": [
    {
     "data": {
      "text/latex": [
       "$\\displaystyle 8 + 3 < 17 - 4^2 = 1000$"
      ],
      "text/plain": [
       "<IPython.core.display.Math object>"
      ]
     },
     "metadata": {},
     "output_type": "display_data"
    }
   ],
   "source": [
    "def convert_bool(num):\n",
    "    if num == 1:\n",
    "        return \"True\"\n",
    "    else:\n",
    "        return \"False\"\n",
    "\n",
    "x = 2\n",
    "ans = 4*x + 3 < 17 - x**2\n",
    "display(Math(\"%g + %g < %g - %g^2 = %g\" %(4*x, 3, 17, x**2, 1000)))"
   ]
  },
  {
   "cell_type": "code",
   "execution_count": 21,
   "id": "97c00f5b",
   "metadata": {},
   "outputs": [
    {
     "name": "stdout",
     "output_type": "stream",
     "text": [
      "True\n"
     ]
    }
   ],
   "source": [
    "x = 4\n",
    "print(8*x - 2 <= -3*x + 42)"
   ]
  }
 ],
 "metadata": {
  "kernelspec": {
   "display_name": "Python 3 (ipykernel)",
   "language": "python",
   "name": "python3"
  },
  "language_info": {
   "codemirror_mode": {
    "name": "ipython",
    "version": 3
   },
   "file_extension": ".py",
   "mimetype": "text/x-python",
   "name": "python",
   "nbconvert_exporter": "python",
   "pygments_lexer": "ipython3",
   "version": "3.9.12"
  }
 },
 "nbformat": 4,
 "nbformat_minor": 5
}
