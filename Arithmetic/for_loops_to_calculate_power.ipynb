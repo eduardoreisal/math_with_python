{
 "cells": [
  {
   "cell_type": "code",
   "execution_count": 2,
   "id": "0c31c752",
   "metadata": {},
   "outputs": [
    {
     "name": "stdout",
     "output_type": "stream",
     "text": [
      "0\n",
      "1\n",
      "4\n",
      "9\n"
     ]
    }
   ],
   "source": [
    "for num in [0,1,2,3]:\n",
    "    print(num**2)"
   ]
  },
  {
   "cell_type": "code",
   "execution_count": 3,
   "id": "5b2876bf",
   "metadata": {},
   "outputs": [
    {
     "name": "stdout",
     "output_type": "stream",
     "text": [
      "this is 0th iteration.\n",
      "this is 1th iteration.\n",
      "this is 2th iteration.\n"
     ]
    }
   ],
   "source": [
    "for qwert in range(0,3):\n",
    "    print('this is %gth iteration.' %qwert)"
   ]
  },
  {
   "cell_type": "code",
   "execution_count": 1,
   "id": "2a9a97b4",
   "metadata": {
    "scrolled": true
   },
   "outputs": [
    {
     "name": "stdout",
     "output_type": "stream",
     "text": [
      "0\n",
      "1\n",
      "4\n",
      "9\n",
      "16\n"
     ]
    }
   ],
   "source": [
    "for t in range(0,5):\n",
    "    num = t**2\n",
    "    print(num)"
   ]
  },
  {
   "cell_type": "code",
   "execution_count": 4,
   "id": "7da97820",
   "metadata": {},
   "outputs": [
    {
     "name": "stdout",
     "output_type": "stream",
     "text": [
      "32 to the power of 0 is 1\n",
      "32 to the power of 1 is 32\n",
      "32 to the power of 2 is 1024\n",
      "32 to the power of 3 is 32768\n",
      "32 to the power of 4 is 1048576\n",
      "32 to the power of 5 is 33554432\n",
      "32 to the power of 6 is 1073741824\n",
      "32 to the power of 7 is 34359738368\n",
      "32 to the power of 8 is 1099511627776\n",
      "32 to the power of 9 is 35184372088832\n"
     ]
    }
   ],
   "source": [
    "base = 32\n",
    "for i in range(10):\n",
    "    print(f\"{base} to the power of {i} is {base**i}\")"
   ]
  }
 ],
 "metadata": {
  "kernelspec": {
   "display_name": "Python 3 (ipykernel)",
   "language": "python",
   "name": "python3"
  },
  "language_info": {
   "codemirror_mode": {
    "name": "ipython",
    "version": 3
   },
   "file_extension": ".py",
   "mimetype": "text/x-python",
   "name": "python",
   "nbconvert_exporter": "python",
   "pygments_lexer": "ipython3",
   "version": "3.9.12"
  }
 },
 "nbformat": 4,
 "nbformat_minor": 5
}
