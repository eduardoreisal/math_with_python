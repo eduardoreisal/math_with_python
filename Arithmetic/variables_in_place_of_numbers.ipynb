{
 "cells": [
  {
   "cell_type": "markdown",
   "id": "c0afde7f",
   "metadata": {},
   "source": [
    "# Using Variables in Place of Numbers"
   ]
  },
  {
   "cell_type": "code",
   "execution_count": 1,
   "id": "ee2bf08e",
   "metadata": {},
   "outputs": [
    {
     "data": {
      "text/plain": [
       "7"
      ]
     },
     "execution_count": 1,
     "metadata": {},
     "output_type": "execute_result"
    }
   ],
   "source": [
    "x = 7\n",
    "x"
   ]
  },
  {
   "cell_type": "code",
   "execution_count": 2,
   "id": "2d1a0531",
   "metadata": {},
   "outputs": [
    {
     "data": {
      "text/plain": [
       "5"
      ]
     },
     "execution_count": 2,
     "metadata": {},
     "output_type": "execute_result"
    }
   ],
   "source": [
    "x - 2"
   ]
  },
  {
   "cell_type": "code",
   "execution_count": 3,
   "id": "0d4eb611",
   "metadata": {},
   "outputs": [
    {
     "data": {
      "text/plain": [
       "-3"
      ]
     },
     "execution_count": 3,
     "metadata": {},
     "output_type": "execute_result"
    }
   ],
   "source": [
    "x = x - 2*5\n",
    "x"
   ]
  },
  {
   "cell_type": "markdown",
   "id": "66d9e51e",
   "metadata": {},
   "source": [
    "##### Jupyter Notebook will only print the last operation\n",
    "Here it only returns x - y*z"
   ]
  },
  {
   "cell_type": "code",
   "execution_count": 10,
   "id": "99a96dfe",
   "metadata": {},
   "outputs": [
    {
     "data": {
      "text/plain": [
       "-610"
      ]
     },
     "execution_count": 10,
     "metadata": {},
     "output_type": "execute_result"
    }
   ],
   "source": [
    "x = 10\n",
    "y = 20\n",
    "z = 31\n",
    "\n",
    "x + y*z\n",
    "x - y*z"
   ]
  },
  {
   "cell_type": "markdown",
   "id": "1dbe25c4",
   "metadata": {},
   "source": [
    "To see bot expressions you need to use the print function"
   ]
  },
  {
   "cell_type": "code",
   "execution_count": 11,
   "id": "cb37e8ec",
   "metadata": {},
   "outputs": [
    {
     "name": "stdout",
     "output_type": "stream",
     "text": [
      "630\n",
      "-610\n"
     ]
    }
   ],
   "source": [
    "x = 10\n",
    "y = 20\n",
    "z = 31\n",
    "\n",
    "print(x + y*z)\n",
    "print(x - y*z)"
   ]
  },
  {
   "cell_type": "code",
   "execution_count": 9,
   "id": "5e3e1c74",
   "metadata": {},
   "outputs": [
    {
     "data": {
      "text/plain": [
       "44"
      ]
     },
     "execution_count": 9,
     "metadata": {},
     "output_type": "execute_result"
    }
   ],
   "source": [
    "mike = 10\n",
    "spike = 34\n",
    "\n",
    "mike + spike"
   ]
  },
  {
   "cell_type": "markdown",
   "id": "e0515d0c",
   "metadata": {},
   "source": [
    "## Exercises \n",
    "1) Create these three variables: x = 7, y = -2, z = 5<br>\n",
    "2) Implemente these equations <br>\n",
    "3x(4+y) = 42<br>\n",
    "-y - (x+3/z) = 0"
   ]
  },
  {
   "cell_type": "code",
   "execution_count": 14,
   "id": "23ede729",
   "metadata": {},
   "outputs": [],
   "source": [
    "x = 7\n",
    "y = -2\n",
    "z = 5"
   ]
  },
  {
   "cell_type": "code",
   "execution_count": 17,
   "id": "711f0293",
   "metadata": {},
   "outputs": [
    {
     "data": {
      "text/plain": [
       "42"
      ]
     },
     "execution_count": 17,
     "metadata": {},
     "output_type": "execute_result"
    }
   ],
   "source": [
    "3*x*(4+y)"
   ]
  },
  {
   "cell_type": "code",
   "execution_count": 24,
   "id": "01469622",
   "metadata": {},
   "outputs": [
    {
     "data": {
      "text/plain": [
       "0.0"
      ]
     },
     "execution_count": 24,
     "metadata": {},
     "output_type": "execute_result"
    }
   ],
   "source": [
    "-y - (x+3) / z"
   ]
  }
 ],
 "metadata": {
  "kernelspec": {
   "display_name": "Python 3 (ipykernel)",
   "language": "python",
   "name": "python3"
  },
  "language_info": {
   "codemirror_mode": {
    "name": "ipython",
    "version": 3
   },
   "file_extension": ".py",
   "mimetype": "text/x-python",
   "name": "python",
   "nbconvert_exporter": "python",
   "pygments_lexer": "ipython3",
   "version": "3.9.12"
  }
 },
 "nbformat": 4,
 "nbformat_minor": 5
}
